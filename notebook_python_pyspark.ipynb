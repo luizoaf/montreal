{
 "cells": [
  {
   "cell_type": "markdown",
   "id": "a9761a83",
   "metadata": {},
   "source": [
    "# Sumário\n",
    "\n",
    "1. [Desafio](#1)\n",
    "2. [Criação do storytelling para o contexto solicitado](#2)\n",
    "3. [Acessar base de dados do IBGE](#3)\n",
    "4. [Fontes utilizadas (mais atuais)](#4)<br>\n",
    "   4.1. [População dos municípios do RJ em 2022](#4.1)<br>\n",
    "   4.2. [PIB dos municípios do RJ em 2021](#4.2)<br>\n",
    "   4.3. [IDH dos municípios do RJ em 2010](#4.3)\n",
    "5. [Base de dados utilizada](#5)<br>\n",
    "    5.1 [Armazenamento e Modelagem dos Dados no Snowflake ](#5.1)\n",
    "6. [Análise Exploratória de Dados (EDA)](#6)<br>\n",
    "    6.1 [Estatística Descritiva](#6.1)<br>\n",
    "    6.2 [Outlier](#6.2)<br>\n",
    "    6.3 [Engenharia de Features](#6.3)<br>\n",
    "    6.4 [Distribuição dos dados](#6.4)<br>\n",
    "    6.5 [Análise das relações entre variáveis e correlação Spearman](#6.5)"
   ]
  },
  {
   "cell_type": "markdown",
   "id": "7d792fd0",
   "metadata": {},
   "source": [
    "# 1. Desafio  <a name=\"1\"></a>\n",
    "\n",
    "* O objetivo deste desafio é realizar uma análise integrada de dados provenientes das API's do IBGE, abrangendo informações sobre localidade, população, PIB e IDH. Utilizando ferramentas como PySpark, SQL e PowerBI, espera-se que você demonstre habilidades na análise de dados, modelagem e apresentação visual. O critério de escolha do conjunto de atributos/informações a serem capturadas/processadas será de responsabilidade da pessoa candidata, onde se espera uma análise da relevancia das informações extraídas, tranformações, agrupamentos, correlações."
   ]
  },
  {
   "cell_type": "markdown",
   "id": "ecdcd686",
   "metadata": {},
   "source": [
    "## Etapas\n",
    "\n",
    "1. Extração de Dados:\n",
    "\n",
    "  - Utilize as API's do IBGE para obter dados de localidade, população, PIB e IDH.\n",
    "  - Utilizar a [API IBGE](https://servicodados.ibge.gov.br/api/docs/)\n",
    "  - Armazene os dados em um modelo snowflake ou outro de sua sugestão, garantindo a integridade e a consistência dos dados.\n",
    "\n",
    "2. Transformação de Dados com PySpark e SQL:\n",
    "\n",
    "  - Utilize PySpark para realizar transformações nos dados, garantindo a qualidade e a relevância das informações.\n",
    "  - Utilize SQL para consultas e análises específicas no conjunto de dados integrado.\n",
    "\n",
    "3. Modelagem e Documentação:\n",
    "\n",
    "  - Demonstre a modelagem do seu conjunto de dados, explicando as relações entre as tabelas e as decisões de design adotadas.\n",
    "  - Entregue um notebook PySpark que documente as etapas de transformação e análise realizadas.\n",
    "\n",
    "4. Desenvolvimento de Dashboard em PowerBI:\n",
    "\n",
    "  - Crie um dashboard interativo no PowerBI que destaque os insights mais relevantes obtidos a partir dos dados integrados.\n",
    "  - O dashboard deve ser intuitivo, apresentando visualizações claras e informativas.\n",
    "\n",
    "## Entregas esperadas\n",
    "\n",
    "* Notebook Python/PySpark: Inclua um notebook que abranja o processo de extração, transformação e análise dos dados.\n",
    "* Modelo Snowflake ou Outro sugerido: Documente a estrutura do seu modelo snowflake ou outro sugerido, explicando as relações entre as tabelas.\n",
    "* Dashboard PowerBI: Entregue o arquivo do PowerBI com o dashboard desenvolvido.\n",
    "* Esquema do fluxo de dados (Opcional).\n",
    "* As entregas devem ser feitas e compartilhadas no GITHUB da pessoa candidata.\n",
    "\n",
    "## Critérios de Avaliação\n",
    "* Qualidade e consistência dos dados integrados.\n",
    "* Eficiência nas transformações realizadas com Python, PySpark e SQL.\n",
    "* Documentação clara e concisa da modelagem e do processo de análise.\n",
    "* Criatividade e relevância das visualizações no PowerBI.\n",
    "\n",
    "\n",
    "## Regras para o desafio\n",
    "* O prazo para entrega da solução é de 2 dias a partir do envio do teste para a pessoa candidata.\n",
    "* O que se espera é um MVP de um projeto que demontre valor e entregue resultado para tomada de decisão.\n",
    "* Se a pessoa candidata fizer uso de qualquer ferramenta de inteligência artificial como ChatGPT ou qualquer outra, deverá explicitar como foi utilizado e o porque."
   ]
  },
  {
   "cell_type": "markdown",
   "id": "e16fe26c",
   "metadata": {},
   "source": [
    "# 2. Criação do storytelling para o contexto solicitado <a name=\"2\"></a>\n",
    "\n",
    "Empreededores contrataram a Montreal para realizar uma pesquisa de mercado no estado do Rio de Janeiro.\n",
    "- Eles desejam ingressar no ramo de lares para idosos, mas não sabem nem o tamanho do mercado desse nicho e nem quais são os municípios mais promissores para investir.\n",
    "\n",
    "Para isso, eu (Luiz Alves) fui designado para resolver esse desafio."
   ]
  },
  {
   "cell_type": "markdown",
   "id": "29f25f1d",
   "metadata": {},
   "source": [
    "# 3. Acessar base de dados do IBGE <a name=\"3\"></a>\n",
    "\n",
    "### Extração:\n",
    "- Localidade (municípios do RJ)\n",
    "- População (idade e sexo)\n",
    "- PIB\n",
    "- IDH"
   ]
  },
  {
   "cell_type": "markdown",
   "id": "539a2da2",
   "metadata": {},
   "source": [
    "### Estrutura para utilização da API do IBGE"
   ]
  },
  {
   "cell_type": "code",
   "execution_count": 1,
   "id": "f551d63b",
   "metadata": {},
   "outputs": [],
   "source": [
    "import requests\n",
    "\n",
    "def extrair_dados_api_ibge(url):\n",
    "    requisicao = requests.get(url)\n",
    "    if requisicao.status_code == 200:\n",
    "        return(requisicao.json())\n",
    "    else:\n",
    "        print(\"Erro na requisição:\", requisicao.status_code)"
   ]
  },
  {
   "cell_type": "markdown",
   "id": "19010095",
   "metadata": {},
   "source": [
    "### Funções para garantir a integridade dos dados\n",
    "\n",
    "- Verifica dados:\n",
    "    - Duplicados\n",
    "    - Nulos\n",
    "    - Strings vazias"
   ]
  },
  {
   "cell_type": "code",
   "execution_count": 2,
   "id": "618f1d54",
   "metadata": {},
   "outputs": [],
   "source": [
    "from pyspark.sql.functions import col, count\n",
    "from functools import reduce\n",
    "\n",
    "def exibe_dados_duplicados(df):\n",
    "    \n",
    "    # Agrupar por todas as colunas e contar\n",
    "    duplicados = df.groupBy(df.columns).agg(count(\"*\").alias(\"count\"))\n",
    "\n",
    "    # Filtrar as linhas que têm mais de uma ocorrência\n",
    "    duplicados = duplicados.filter(col(\"count\") > 1)\n",
    "\n",
    "    # Mostrar duplicatas\n",
    "    duplicados.show()\n",
    "    \n",
    "    \n",
    "def exibe_valores_nulos_data_frame(df):\n",
    "   \n",
    "    # Cria uma lista de condições de nulidade para cada coluna\n",
    "    condicoes_valores_nulos = [col(column).isNull() for column in df.columns]\n",
    "\n",
    "    # Combina todas as condições com \"or\"\n",
    "    possui_nulo = reduce(lambda x, y: x | y, condicoes_valores_nulos)\n",
    "\n",
    "    # Filtra o DataFrame com a condição combinada\n",
    "    df_linhas_com_valores_nulos = df.filter(possui_nulo)\n",
    "\n",
    "    df_linhas_com_valores_nulos.show()\n",
    "\n",
    "\n",
    "def exibe_strings_vazias(df):\n",
    "    # Cria uma lista de condições para strings vazias ou com espaços\n",
    "    condicoes_strings_vazias = [(col(c) == \"\") | (col(c).rlike(\"^\\s+$\")) for c in df.columns]\n",
    "\n",
    "    # Combina todas as condições com \"or\"\n",
    "    possui_string_vazia = reduce(lambda x, y: x | y, condicoes_strings_vazias)\n",
    "\n",
    "    # Filtra o DataFrame com a condição combinada\n",
    "    df_strings_vazias = df.filter(possui_string_vazia)\n",
    "\n",
    "    df_strings_vazias.show()"
   ]
  },
  {
   "cell_type": "markdown",
   "id": "161cde20",
   "metadata": {},
   "source": [
    "# 4. Fontes utilizadas (mais atuais) <a name=\"4\"></a>\n",
    "\n",
    "- Agregados: https://servicodados.ibge.gov.br/api/docs/agregados?versao=3#api-bq\n",
    "- Vá em Query Builder\n",
    "    - População e localidade\n",
    "        - Censo Demográfico dos municípios do RJ \n",
    "            - População (2022)\n",
    "                - Agregado: 9606 - População residente, por cor ou raça, segundo o sexo e a idade\n",
    "    - Produto Interno Bruto dos Municípios (2021) \n",
    "        - Agregado: 5938\n",
    "    - IDH (2010)"
   ]
  },
  {
   "cell_type": "markdown",
   "id": "7535a41e",
   "metadata": {},
   "source": [
    "### Utilização do PySpark"
   ]
  },
  {
   "cell_type": "code",
   "execution_count": 3,
   "id": "5f507647",
   "metadata": {},
   "outputs": [],
   "source": [
    "# Caso o pyspark não esteja instalado\n",
    "# !pip install pyspark\n",
    "\n",
    "# Java é requisito\n",
    "# Caso não tenha, instale: https://www.java.com/pt-BR/"
   ]
  },
  {
   "cell_type": "code",
   "execution_count": 4,
   "id": "eef98235",
   "metadata": {},
   "outputs": [
    {
     "name": "stderr",
     "output_type": "stream",
     "text": [
      "24/01/14 13:34:42 WARN Utils: Your hostname, MacBook-Air-de-Luiz.local resolves to a loopback address: 127.0.0.1; using 192.168.0.16 instead (on interface en0)\n",
      "24/01/14 13:34:42 WARN Utils: Set SPARK_LOCAL_IP if you need to bind to another address\n",
      "Setting default log level to \"WARN\".\n",
      "To adjust logging level use sc.setLogLevel(newLevel). For SparkR, use setLogLevel(newLevel).\n",
      "24/01/14 13:34:43 WARN NativeCodeLoader: Unable to load native-hadoop library for your platform... using builtin-java classes where applicable\n"
     ]
    }
   ],
   "source": [
    "from pyspark.sql import SparkSession\n",
    "\n",
    "# Inicializando o SparkSession\n",
    "spark = SparkSession.builder.appName(\"dados_ibge\").getOrCreate()"
   ]
  },
  {
   "cell_type": "markdown",
   "id": "e9b34976",
   "metadata": {},
   "source": [
    "## 4.1 População dos municípios do RJ em 2022 <a name=\"4.1\"></a>"
   ]
  },
  {
   "cell_type": "code",
   "execution_count": 54,
   "id": "7a6e2993",
   "metadata": {},
   "outputs": [],
   "source": [
    "link_populacao = \"https://servicodados.ibge.gov.br/api/v3/agregados/9606/periodos/2022/variaveis/93?localidades=N6[N3[33]]&classificacao=2[4,5]|287[6558,6559,6560,6561,6562,6563,6564,6565,6566,6567,6568,6569,6570,6571,6572,6573,6574,6575,6576,6577,6578,6579,6580,6581,6582,6656,6657,6658,6659,6583,6584,6585,6586,6587,6588,6589,6590,6591,6592,6593,6594,6595,6596,6597,6598,6599,6600,6601,6602,6603,6604,6605,6606,6607,6608,6609,6610,6611,6612,6613,6614,6615,6616,6617,6618,6619,6620,6621,6622,6623,6624,6625,6626,6627,6628,6629,6630,6631,6632,6633,6634,6635,6636,6637,6638,6639,6640,6641,6642,6643,6644,6645,6646,6647,6648,6649,6650,6651,6652,6653]\"\n",
    "json_populacao = extrair_dados_api_ibge(link_populacao)\n",
    "# json_populacao"
   ]
  },
  {
   "cell_type": "code",
   "execution_count": 6,
   "id": "e2b42ece",
   "metadata": {},
   "outputs": [
    {
     "name": "stderr",
     "output_type": "stream",
     "text": [
      "                                                                                \r"
     ]
    },
    {
     "name": "stdout",
     "output_type": "stream",
     "text": [
      "+--------------------+------+-----+---------+\n",
      "|           municipio|  sexo|idade|populacao|\n",
      "+--------------------+------+-----+---------+\n",
      "|      Angra dos Reis|Homens|1 ano|     1010|\n",
      "|             Aperibé|Homens|1 ano|       54|\n",
      "|            Araruama|Homens|1 ano|      692|\n",
      "|               Areal|Homens|1 ano|       69|\n",
      "|  Armação dos Búzios|Homens|1 ano|      208|\n",
      "|     Arraial do Cabo|Homens|1 ano|      128|\n",
      "|      Barra do Piraí|Homens|1 ano|      489|\n",
      "|         Barra Mansa|Homens|1 ano|      840|\n",
      "|        Belford Roxo|Homens|1 ano|     2564|\n",
      "|          Bom Jardim|Homens|1 ano|      168|\n",
      "|Bom Jesus do Itab...|Homens|1 ano|      197|\n",
      "|           Cabo Frio|Homens|1 ano|     1236|\n",
      "|Cachoeiras de Macacu|Homens|1 ano|      282|\n",
      "|             Cambuci|Homens|1 ano|       75|\n",
      "|           Carapebus|Homens|1 ano|       90|\n",
      "|Comendador Levy G...|Homens|1 ano|       50|\n",
      "|Campos dos Goytac...|Homens|1 ano|     2750|\n",
      "|           Cantagalo|Homens|1 ano|      116|\n",
      "|     Cardoso Moreira|Homens|1 ano|       79|\n",
      "|               Carmo|Homens|1 ano|       88|\n",
      "+--------------------+------+-----+---------+\n",
      "only showing top 20 rows\n",
      "\n"
     ]
    }
   ],
   "source": [
    "from pyspark.sql.functions import regexp_replace\n",
    "from pyspark.sql.types import StructType, StructField, StringType\n",
    "\n",
    "def conversao_json_para_dataframe_populacao(json_data, spark):\n",
    "    # Definindo o esquema para o DataFrame\n",
    "    schema = StructType([\n",
    "        StructField(\"municipio\", StringType(), True),\n",
    "        StructField(\"sexo\", StringType(), True),\n",
    "        StructField(\"idade\", StringType(), True),\n",
    "        StructField(\"populacao\", StringType(), True)  \n",
    "    ])\n",
    "\n",
    "    # Preparando os dados para o DataFrame\n",
    "    processed_data = []\n",
    "\n",
    "    for resultado in json_data[0]['resultados']:\n",
    "        sexo = resultado['classificacoes'][0]['categoria'][next(iter(resultado['classificacoes'][0]['categoria']))]\n",
    "        idade = resultado['classificacoes'][1]['categoria'][next(iter(resultado['classificacoes'][1]['categoria']))]\n",
    "        for serie in resultado['series']:\n",
    "            municipio = serie['localidade']['nome']\n",
    "            quantidade = list(serie['serie'].values())[0]   \n",
    "            processed_data.append((municipio, sexo, idade, quantidade))\n",
    "\n",
    "    # Criando o DataFrame do PySpark\n",
    "    df = spark.createDataFrame(processed_data, schema)\n",
    "\n",
    "    # Removendo a parte ' - RJ' dos nomes dos municípios\n",
    "    df = df.withColumn(\"municipio\", regexp_replace(\"municipio\", \" - RJ\", \"\"))\n",
    "\n",
    "    return df\n",
    "\n",
    "df_populacao = conversao_json_para_dataframe_populacao(json_populacao, spark)\n",
    "\n",
    "df_populacao.show()"
   ]
  },
  {
   "cell_type": "markdown",
   "id": "149b9afb",
   "metadata": {},
   "source": [
    "### Tratamento das idades\n",
    "\n",
    "Idade de 100 anos representa 100 ou mais."
   ]
  },
  {
   "cell_type": "code",
   "execution_count": 7,
   "id": "7e0b2c5a",
   "metadata": {},
   "outputs": [
    {
     "name": "stdout",
     "output_type": "stream",
     "text": [
      "+--------------------+------+-----+---------+\n",
      "|           municipio|  sexo|idade|populacao|\n",
      "+--------------------+------+-----+---------+\n",
      "|      Angra dos Reis|Homens|    1|     1010|\n",
      "|             Aperibé|Homens|    1|       54|\n",
      "|            Araruama|Homens|    1|      692|\n",
      "|               Areal|Homens|    1|       69|\n",
      "|  Armação dos Búzios|Homens|    1|      208|\n",
      "|     Arraial do Cabo|Homens|    1|      128|\n",
      "|      Barra do Piraí|Homens|    1|      489|\n",
      "|         Barra Mansa|Homens|    1|      840|\n",
      "|        Belford Roxo|Homens|    1|     2564|\n",
      "|          Bom Jardim|Homens|    1|      168|\n",
      "|Bom Jesus do Itab...|Homens|    1|      197|\n",
      "|           Cabo Frio|Homens|    1|     1236|\n",
      "|Cachoeiras de Macacu|Homens|    1|      282|\n",
      "|             Cambuci|Homens|    1|       75|\n",
      "|           Carapebus|Homens|    1|       90|\n",
      "|Comendador Levy G...|Homens|    1|       50|\n",
      "|Campos dos Goytac...|Homens|    1|     2750|\n",
      "|           Cantagalo|Homens|    1|      116|\n",
      "|     Cardoso Moreira|Homens|    1|       79|\n",
      "|               Carmo|Homens|    1|       88|\n",
      "+--------------------+------+-----+---------+\n",
      "only showing top 20 rows\n",
      "\n"
     ]
    }
   ],
   "source": [
    "from pyspark.sql.functions import regexp_replace, col\n",
    "\n",
    "df_populacao = df_populacao.withColumn(\"idade\", regexp_replace(\"idade\", \"[^0-9]\", \"\"))\n",
    "df_populacao = df_populacao.withColumn(\"idade\", col(\"idade\").cast(\"int\"))\n",
    "\n",
    "df_populacao.show()"
   ]
  },
  {
   "cell_type": "markdown",
   "id": "eccfa634",
   "metadata": {},
   "source": [
    "## Tratamento para quando não houver população com determinada idade no município\n",
    "\n",
    "Será substituído de '-' para 0."
   ]
  },
  {
   "cell_type": "code",
   "execution_count": 8,
   "id": "fb60bca0",
   "metadata": {},
   "outputs": [
    {
     "name": "stdout",
     "output_type": "stream",
     "text": [
      "+--------------------+------+-----+---------+\n",
      "|           municipio|  sexo|idade|populacao|\n",
      "+--------------------+------+-----+---------+\n",
      "|     São José de Ubá|Homens|   90|        -|\n",
      "|      Laje do Muriaé|Homens|   91|        -|\n",
      "|São Sebastião do ...|Homens|   91|        -|\n",
      "|             Aperibé|Homens|   92|        -|\n",
      "|              Macuco|Homens|   92|        -|\n",
      "|          Porto Real|Homens|   92|        -|\n",
      "|              Quatis|Homens|   92|        -|\n",
      "|            Quissamã|Homens|   93|        -|\n",
      "|               Areal|Homens|   94|        -|\n",
      "|  Armação dos Búzios|Homens|   94|        -|\n",
      "|Comendador Levy G...|Homens|   94|        -|\n",
      "|              Macuco|Homens|   94|        -|\n",
      "|         Mangaratiba|Homens|   94|        -|\n",
      "|           Rio Claro|Homens|   94|        -|\n",
      "|           Sumidouro|Homens|   94|        -|\n",
      "|           Varre-Sai|Homens|   94|        -|\n",
      "|               Areal|Homens|   95|        -|\n",
      "|Comendador Levy G...|Homens|   95|        -|\n",
      "|            Cordeiro|Homens|   95|        -|\n",
      "|Engenheiro Paulo ...|Homens|   95|        -|\n",
      "+--------------------+------+-----+---------+\n",
      "only showing top 20 rows\n",
      "\n"
     ]
    }
   ],
   "source": [
    "from pyspark.sql.functions import col, regexp_extract\n",
    "\n",
    "df_sem_populacao = df_populacao.filter(~col(\"populacao\").rlike('^\\d+$'))\n",
    "df_sem_populacao.show()"
   ]
  },
  {
   "cell_type": "code",
   "execution_count": 9,
   "id": "a7a7897f",
   "metadata": {},
   "outputs": [],
   "source": [
    "from pyspark.sql.functions import regexp_replace\n",
    "\n",
    "df_populacao = df_populacao.withColumn(\"populacao\", regexp_replace(\"populacao\", \"-\", \"0\"))"
   ]
  },
  {
   "cell_type": "markdown",
   "id": "bb3398f6",
   "metadata": {},
   "source": [
    "### Verificação da integridade dos dados: data frame de população"
   ]
  },
  {
   "cell_type": "code",
   "execution_count": 10,
   "id": "f4f2ade0",
   "metadata": {},
   "outputs": [
    {
     "name": "stderr",
     "output_type": "stream",
     "text": [
      "[Stage 4:==============>                                            (2 + 6) / 8]\r"
     ]
    },
    {
     "name": "stdout",
     "output_type": "stream",
     "text": [
      "+---------+----+-----+---------+-----+\n",
      "|municipio|sexo|idade|populacao|count|\n",
      "+---------+----+-----+---------+-----+\n",
      "+---------+----+-----+---------+-----+\n",
      "\n"
     ]
    },
    {
     "name": "stderr",
     "output_type": "stream",
     "text": [
      "\r",
      "                                                                                \r"
     ]
    }
   ],
   "source": [
    "exibe_dados_duplicados(df_populacao)"
   ]
  },
  {
   "cell_type": "code",
   "execution_count": 11,
   "id": "bdc8f1ba",
   "metadata": {},
   "outputs": [
    {
     "name": "stdout",
     "output_type": "stream",
     "text": [
      "+---------+----+-----+---------+\n",
      "|municipio|sexo|idade|populacao|\n",
      "+---------+----+-----+---------+\n",
      "+---------+----+-----+---------+\n",
      "\n"
     ]
    }
   ],
   "source": [
    "exibe_valores_nulos_data_frame(df_populacao)"
   ]
  },
  {
   "cell_type": "code",
   "execution_count": 12,
   "id": "6b9e533f",
   "metadata": {},
   "outputs": [
    {
     "name": "stdout",
     "output_type": "stream",
     "text": [
      "+---------+----+-----+---------+\n",
      "|municipio|sexo|idade|populacao|\n",
      "+---------+----+-----+---------+\n",
      "+---------+----+-----+---------+\n",
      "\n"
     ]
    }
   ],
   "source": [
    "exibe_strings_vazias(df_populacao)"
   ]
  },
  {
   "cell_type": "markdown",
   "id": "12896e74",
   "metadata": {},
   "source": [
    "### Total de municípios do RJ"
   ]
  },
  {
   "cell_type": "code",
   "execution_count": 13,
   "id": "240627a9",
   "metadata": {},
   "outputs": [
    {
     "name": "stderr",
     "output_type": "stream",
     "text": [
      "                                                                                \r"
     ]
    },
    {
     "data": {
      "text/plain": [
       "92"
      ]
     },
     "execution_count": 13,
     "metadata": {},
     "output_type": "execute_result"
    }
   ],
   "source": [
    "df_populacao.select(\"municipio\").distinct().count()"
   ]
  },
  {
   "cell_type": "markdown",
   "id": "732adf31",
   "metadata": {},
   "source": [
    "## 4.2 PIB dos municípios do RJ em 2021 <a name=\"4.2\"></a>"
   ]
  },
  {
   "cell_type": "code",
   "execution_count": 55,
   "id": "4c247a3a",
   "metadata": {},
   "outputs": [],
   "source": [
    "link_pib = \"https://servicodados.ibge.gov.br/api/v3/agregados/5938/periodos/2021/variaveis/37?localidades=N6[N3[33]]\"\n",
    "json_pib = extrair_dados_api_ibge(link_pib)\n",
    "# json_pib"
   ]
  },
  {
   "cell_type": "code",
   "execution_count": 15,
   "id": "1ed32670",
   "metadata": {
    "scrolled": true
   },
   "outputs": [
    {
     "name": "stdout",
     "output_type": "stream",
     "text": [
      "+--------------------+--------+\n",
      "|           municipio|     PIB|\n",
      "+--------------------+--------+\n",
      "|      Angra dos Reis|11194244|\n",
      "|             Aperibé|  249125|\n",
      "|            Araruama| 4234265|\n",
      "|               Areal|  427444|\n",
      "|  Armação dos Búzios| 2970333|\n",
      "|     Arraial do Cabo| 2705477|\n",
      "|      Barra do Piraí| 2713911|\n",
      "|         Barra Mansa| 6449309|\n",
      "|        Belford Roxo| 8839808|\n",
      "|          Bom Jardim|  887304|\n",
      "|Bom Jesus do Itab...|  908167|\n",
      "|           Cabo Frio|12359627|\n",
      "|Cachoeiras de Macacu| 1305514|\n",
      "|             Cambuci|  400563|\n",
      "|           Carapebus|  726769|\n",
      "|Comendador Levy G...|  603975|\n",
      "|Campos dos Goytac...|37179860|\n",
      "|           Cantagalo|  841421|\n",
      "|     Cardoso Moreira|  395482|\n",
      "|               Carmo|  561153|\n",
      "+--------------------+--------+\n",
      "only showing top 20 rows\n",
      "\n"
     ]
    }
   ],
   "source": [
    "from pyspark.sql.functions import regexp_replace\n",
    "from pyspark.sql.types import StructType, StructField, StringType, IntegerType\n",
    "from pyspark.sql.functions import col\n",
    "\n",
    "def conversao_json_para_dataframe_pib(json_data, spark):\n",
    "    # Definindo o esquema para o DataFrame\n",
    "    schema = StructType([\n",
    "        StructField(\"municipio\", StringType(), True),\n",
    "        StructField(\"PIB\", StringType(), True)  \n",
    "    ])\n",
    "\n",
    "    # Preparando os dados para o DataFrame\n",
    "    processed_data = []\n",
    "\n",
    "    for resultado in json_data[0]['resultados']:\n",
    "        for serie in resultado['series']:\n",
    "            municipio = serie['localidade']['nome']\n",
    "            pib = list(serie['serie'].values())[0]\n",
    "            processed_data.append((municipio, pib))\n",
    "\n",
    "    # Criando o DataFrame do PySpark\n",
    "    df = spark.createDataFrame(processed_data, schema)\n",
    "\n",
    "    # Removendo a parte ' - RJ' dos nomes dos municípios\n",
    "    df = df.withColumn(\"municipio\", regexp_replace(\"municipio\", \" - RJ\", \"\"))\n",
    "    df = df.withColumn(\"PIB\", col(\"PIB\").cast(IntegerType()))\n",
    "\n",
    "    return df\n",
    "\n",
    "df_pib = conversao_json_para_dataframe_pib(json_pib, spark)\n",
    "\n",
    "df_pib.show()"
   ]
  },
  {
   "cell_type": "markdown",
   "id": "107eb2cb",
   "metadata": {},
   "source": [
    "### Verificação da integridade dos dados: data frame do PIB"
   ]
  },
  {
   "cell_type": "code",
   "execution_count": 16,
   "id": "3ff95927",
   "metadata": {},
   "outputs": [
    {
     "name": "stdout",
     "output_type": "stream",
     "text": [
      "+---------+---+-----+\n",
      "|municipio|PIB|count|\n",
      "+---------+---+-----+\n",
      "+---------+---+-----+\n",
      "\n"
     ]
    }
   ],
   "source": [
    "exibe_dados_duplicados(df_pib)"
   ]
  },
  {
   "cell_type": "code",
   "execution_count": 17,
   "id": "3aa300ec",
   "metadata": {},
   "outputs": [
    {
     "name": "stdout",
     "output_type": "stream",
     "text": [
      "+---------+---+\n",
      "|municipio|PIB|\n",
      "+---------+---+\n",
      "+---------+---+\n",
      "\n"
     ]
    }
   ],
   "source": [
    "exibe_valores_nulos_data_frame(df_pib)"
   ]
  },
  {
   "cell_type": "code",
   "execution_count": 18,
   "id": "1db434d5",
   "metadata": {},
   "outputs": [
    {
     "name": "stdout",
     "output_type": "stream",
     "text": [
      "+---------+---+\n",
      "|municipio|PIB|\n",
      "+---------+---+\n",
      "+---------+---+\n",
      "\n"
     ]
    }
   ],
   "source": [
    "exibe_strings_vazias(df_pib)"
   ]
  },
  {
   "cell_type": "markdown",
   "id": "907f5299",
   "metadata": {},
   "source": [
    "## 4.3 IDH dos municípios do RJ em 2010 <a name=\"4.3\"></a>\n",
    "\n",
    "Objetivo inicial: acessar o indicador, que é o ID de cada município"
   ]
  },
  {
   "cell_type": "code",
   "execution_count": 19,
   "id": "185841a7",
   "metadata": {},
   "outputs": [
    {
     "name": "stderr",
     "output_type": "stream",
     "text": [
      "\r",
      "[Stage 30:>                                                         (0 + 1) / 1]\r"
     ]
    },
    {
     "name": "stdout",
     "output_type": "stream",
     "text": [
      "+---------+--------------------+--------------------+\n",
      "|indicador|           municipio|            link_idh|\n",
      "+---------+--------------------+--------------------+\n",
      "|  3300100|      Angra dos Reis|https://servicoda...|\n",
      "|  3300159|             Aperibé|https://servicoda...|\n",
      "|  3300209|            Araruama|https://servicoda...|\n",
      "|  3300225|               Areal|https://servicoda...|\n",
      "|  3300233|  Armação dos Búzios|https://servicoda...|\n",
      "|  3300258|     Arraial do Cabo|https://servicoda...|\n",
      "|  3300308|      Barra do Piraí|https://servicoda...|\n",
      "|  3300407|         Barra Mansa|https://servicoda...|\n",
      "|  3300456|        Belford Roxo|https://servicoda...|\n",
      "|  3300506|          Bom Jardim|https://servicoda...|\n",
      "|  3300605|Bom Jesus do Itab...|https://servicoda...|\n",
      "|  3300704|           Cabo Frio|https://servicoda...|\n",
      "|  3300803|Cachoeiras de Macacu|https://servicoda...|\n",
      "|  3300902|             Cambuci|https://servicoda...|\n",
      "|  3300936|           Carapebus|https://servicoda...|\n",
      "|  3300951|Comendador Levy G...|https://servicoda...|\n",
      "|  3301009|Campos dos Goytac...|https://servicoda...|\n",
      "|  3301108|           Cantagalo|https://servicoda...|\n",
      "|  3301157|     Cardoso Moreira|https://servicoda...|\n",
      "|  3301207|               Carmo|https://servicoda...|\n",
      "+---------+--------------------+--------------------+\n",
      "only showing top 20 rows\n",
      "\n"
     ]
    },
    {
     "name": "stderr",
     "output_type": "stream",
     "text": [
      "\r",
      "                                                                                \r"
     ]
    }
   ],
   "source": [
    "from pyspark.sql.functions import udf\n",
    "from pyspark.sql.types import StringType, StructType, StructField\n",
    "\n",
    "link_indicadores_municipios = \"https://servicodados.ibge.gov.br/api/v1/localidades/estados/33/municipios\"\n",
    "indicadores_municipios_json = extrair_dados_api_ibge(link_indicadores_municipios)\n",
    "\n",
    "# Definindo o esquema para o DataFrame\n",
    "schema = StructType([\n",
    "    StructField(\"indicador\", StringType(), True),\n",
    "    StructField(\"municipio\", StringType(), True)\n",
    "])\n",
    "\n",
    "# Transformando os dados JSON em um DataFrame\n",
    "indicadores_municipios_lista = [(item['id'], item['nome']) for item in indicadores_municipios_json]\n",
    "df_indicadores_municipios = spark.createDataFrame(indicadores_municipios_lista, schema)\n",
    "\n",
    "# Função para gerar a URL do acionador\n",
    "def gerar_url(id_municipio):\n",
    "    return f\"https://servicodados.ibge.gov.br/api/v1/pesquisas/indicadores/30255/resultados/{id_municipio}\"\n",
    "\n",
    "# Registrando a função UDF\n",
    "gerar_url_udf = udf(gerar_url, StringType())\n",
    "\n",
    "# Adicionando a coluna de URL ao DataFrame\n",
    "df_indicadores_municipios = df_indicadores_municipios.withColumn(\"link_idh\", gerar_url_udf(df_indicadores_municipios[\"indicador\"]))\n",
    "\n",
    "df_indicadores_municipios.show()"
   ]
  },
  {
   "cell_type": "code",
   "execution_count": 20,
   "id": "7cbd037b",
   "metadata": {},
   "outputs": [
    {
     "name": "stdout",
     "output_type": "stream",
     "text": [
      "+------------------+----+-----+\n",
      "|         municipio| ano|  IDH|\n",
      "+------------------+----+-----+\n",
      "|    Angra dos Reis|1991|0.492|\n",
      "|    Angra dos Reis|2000|0.599|\n",
      "|    Angra dos Reis|2010|0.724|\n",
      "|           Aperibé|1991|0.483|\n",
      "|           Aperibé|2000| 0.62|\n",
      "|           Aperibé|2010|0.692|\n",
      "|          Araruama|1991|0.449|\n",
      "|          Araruama|2000|0.579|\n",
      "|          Araruama|2010|0.718|\n",
      "|             Areal|1991|0.491|\n",
      "|             Areal|2000|0.611|\n",
      "|             Areal|2010|0.684|\n",
      "|Armação dos Búzios|1991|0.489|\n",
      "|Armação dos Búzios|2000|0.604|\n",
      "|Armação dos Búzios|2010|0.728|\n",
      "|   Arraial do Cabo|1991|0.513|\n",
      "|   Arraial do Cabo|2000|0.632|\n",
      "|   Arraial do Cabo|2010|0.733|\n",
      "|    Barra do Piraí|1991|0.541|\n",
      "|    Barra do Piraí|2000|0.626|\n",
      "+------------------+----+-----+\n",
      "only showing top 20 rows\n",
      "\n"
     ]
    }
   ],
   "source": [
    "from pyspark.sql.types import StructType, StructField, StringType, DoubleType\n",
    "\n",
    "# Coletando dados do DataFrame PySpark para o driver\n",
    "lista_indicadores_municipios = df_indicadores_municipios.select(\"municipio\", \"link_idh\").collect()\n",
    "\n",
    "dados_idh = []\n",
    "\n",
    "# Iterando sobre os dados coletados\n",
    "for row in lista_indicadores_municipios:\n",
    "    dados_api = extrair_dados_api_ibge(row['link_idh'])\n",
    "    for item in dados_api:\n",
    "        municipio = row['municipio']\n",
    "        for ano, idh in item['res'][0]['res'].items():\n",
    "            dados_idh.append({'municipio': municipio, 'ano': ano, 'IDH': idh})\n",
    "\n",
    "# Definindo o esquema para o novo DataFrame\n",
    "schema = StructType([\n",
    "    StructField(\"municipio\", StringType(), True),\n",
    "    StructField(\"ano\", StringType(), True),\n",
    "    StructField(\"IDH\", StringType(), True)   \n",
    "])\n",
    "\n",
    "# Criando um DataFrame do PySpark a partir dos dados coletados\n",
    "df_idh = spark.createDataFrame(dados_idh, schema)\n",
    "\n",
    "# Convertendo a coluna 'IDH' de string para double\n",
    "df_idh = df_idh.withColumn(\"IDH\", col(\"IDH\").cast(\"double\"))\n",
    "\n",
    "df_idh.show()"
   ]
  },
  {
   "cell_type": "markdown",
   "id": "e276fc1c",
   "metadata": {},
   "source": [
    "### Ano mais recente do IDH"
   ]
  },
  {
   "cell_type": "code",
   "execution_count": 21,
   "id": "90b138df",
   "metadata": {},
   "outputs": [
    {
     "data": {
      "text/plain": [
       "'2010'"
      ]
     },
     "execution_count": 21,
     "metadata": {},
     "output_type": "execute_result"
    }
   ],
   "source": [
    "from pyspark.sql.functions import max as pyspark_max\n",
    "\n",
    "ano_mais_recente_idh = df_idh.select(pyspark_max(\"ano\")).collect()[0][0]\n",
    "ano_mais_recente_idh"
   ]
  },
  {
   "cell_type": "code",
   "execution_count": 22,
   "id": "f15e18d4",
   "metadata": {
    "scrolled": false
   },
   "outputs": [
    {
     "name": "stdout",
     "output_type": "stream",
     "text": [
      "+--------------------+-----+\n",
      "|           municipio|  IDH|\n",
      "+--------------------+-----+\n",
      "|      Angra dos Reis|0.724|\n",
      "|             Aperibé|0.692|\n",
      "|            Araruama|0.718|\n",
      "|               Areal|0.684|\n",
      "|  Armação dos Búzios|0.728|\n",
      "|     Arraial do Cabo|0.733|\n",
      "|      Barra do Piraí|0.733|\n",
      "|         Barra Mansa|0.729|\n",
      "|        Belford Roxo|0.684|\n",
      "|          Bom Jardim| 0.66|\n",
      "|Bom Jesus do Itab...|0.732|\n",
      "|           Cabo Frio|0.735|\n",
      "|Cachoeiras de Macacu|  0.7|\n",
      "|             Cambuci|0.691|\n",
      "|           Carapebus|0.713|\n",
      "|Comendador Levy G...|0.685|\n",
      "|Campos dos Goytac...|0.716|\n",
      "|           Cantagalo|0.709|\n",
      "|     Cardoso Moreira|0.648|\n",
      "|               Carmo|0.696|\n",
      "+--------------------+-----+\n",
      "only showing top 20 rows\n",
      "\n"
     ]
    }
   ],
   "source": [
    "from pyspark.sql.functions import col\n",
    "\n",
    "df_idh_mais_recente = df_idh.filter(col(\"ano\") == ano_mais_recente_idh)\n",
    "\n",
    "# Removendo a coluna 'ano'\n",
    "df_idh_mais_recente = df_idh_mais_recente.drop(\"ano\")\n",
    "\n",
    "df_idh_mais_recente.show()"
   ]
  },
  {
   "cell_type": "markdown",
   "id": "ba39248e",
   "metadata": {},
   "source": [
    "#### Verificando a quantidade de todos os municípios e indicadores para unir os data frames "
   ]
  },
  {
   "cell_type": "code",
   "execution_count": 23,
   "id": "efb7b8c3",
   "metadata": {},
   "outputs": [
    {
     "data": {
      "text/plain": [
       "92"
      ]
     },
     "execution_count": 23,
     "metadata": {},
     "output_type": "execute_result"
    }
   ],
   "source": [
    "df_idh_mais_recente.select(\"municipio\").distinct().count()"
   ]
  },
  {
   "cell_type": "code",
   "execution_count": 24,
   "id": "8ac096a0",
   "metadata": {},
   "outputs": [
    {
     "data": {
      "text/plain": [
       "92"
      ]
     },
     "execution_count": 24,
     "metadata": {},
     "output_type": "execute_result"
    }
   ],
   "source": [
    "df_indicadores_municipios.select(\"municipio\").distinct().count()"
   ]
  },
  {
   "cell_type": "code",
   "execution_count": 25,
   "id": "1b9110ea",
   "metadata": {},
   "outputs": [
    {
     "data": {
      "text/plain": [
       "92"
      ]
     },
     "execution_count": 25,
     "metadata": {},
     "output_type": "execute_result"
    }
   ],
   "source": [
    "df_indicadores_municipios.select(\"indicador\").distinct().count()"
   ]
  },
  {
   "cell_type": "code",
   "execution_count": 26,
   "id": "45800d66",
   "metadata": {
    "scrolled": true
   },
   "outputs": [
    {
     "name": "stdout",
     "output_type": "stream",
     "text": [
      "+--------------------+-----+---------+\n",
      "|           municipio|  IDH|indicador|\n",
      "+--------------------+-----+---------+\n",
      "|            Araruama|0.718|  3300209|\n",
      "|Bom Jesus do Itab...|0.732|  3300605|\n",
      "|         Barra Mansa|0.729|  3300407|\n",
      "|        Belford Roxo|0.684|  3300456|\n",
      "|      Angra dos Reis|0.724|  3300100|\n",
      "|               Areal|0.684|  3300225|\n",
      "|             Aperibé|0.692|  3300159|\n",
      "|          Bom Jardim| 0.66|  3300506|\n",
      "|      Barra do Piraí|0.733|  3300308|\n",
      "|  Armação dos Búzios|0.728|  3300233|\n",
      "|     Arraial do Cabo|0.733|  3300258|\n",
      "|     Cardoso Moreira|0.648|  3301157|\n",
      "| Conceição de Macabu|0.712|  3301405|\n",
      "|           Carapebus|0.713|  3300936|\n",
      "|Cachoeiras de Macacu|  0.7|  3300803|\n",
      "|Campos dos Goytac...|0.716|  3301009|\n",
      "|           Cantagalo|0.709|  3301108|\n",
      "|           Cabo Frio|0.735|  3300704|\n",
      "|             Cambuci|0.691|  3300902|\n",
      "|   Casimiro de Abreu|0.726|  3301306|\n",
      "+--------------------+-----+---------+\n",
      "only showing top 20 rows\n",
      "\n"
     ]
    }
   ],
   "source": [
    "df_idh_mais_recente = df_idh_mais_recente.join(df_indicadores_municipios, \"municipio\")\n",
    "df_idh_mais_recente = df_idh_mais_recente.drop(\"link_idh\")\n",
    "df_idh_mais_recente.show()"
   ]
  },
  {
   "cell_type": "markdown",
   "id": "032e17c9",
   "metadata": {},
   "source": [
    "### Verificação da integridade dos dados: data frame do IDH"
   ]
  },
  {
   "cell_type": "code",
   "execution_count": 27,
   "id": "fcadc267",
   "metadata": {},
   "outputs": [
    {
     "name": "stdout",
     "output_type": "stream",
     "text": [
      "+---------+---+---+-----+\n",
      "|municipio|ano|IDH|count|\n",
      "+---------+---+---+-----+\n",
      "+---------+---+---+-----+\n",
      "\n"
     ]
    }
   ],
   "source": [
    "exibe_dados_duplicados(df_idh)"
   ]
  },
  {
   "cell_type": "code",
   "execution_count": 28,
   "id": "adfbd7c0",
   "metadata": {},
   "outputs": [
    {
     "name": "stdout",
     "output_type": "stream",
     "text": [
      "+---------+---+---+\n",
      "|municipio|ano|IDH|\n",
      "+---------+---+---+\n",
      "+---------+---+---+\n",
      "\n"
     ]
    }
   ],
   "source": [
    "exibe_valores_nulos_data_frame(df_idh)"
   ]
  },
  {
   "cell_type": "code",
   "execution_count": 29,
   "id": "83b80741",
   "metadata": {},
   "outputs": [
    {
     "name": "stdout",
     "output_type": "stream",
     "text": [
      "+---------+---+---+\n",
      "|municipio|ano|IDH|\n",
      "+---------+---+---+\n",
      "+---------+---+---+\n",
      "\n"
     ]
    }
   ],
   "source": [
    "exibe_strings_vazias(df_idh)"
   ]
  },
  {
   "cell_type": "markdown",
   "id": "677bc765",
   "metadata": {},
   "source": [
    "# 5. Base de dados utilizada <a name=\"5\"></a>\n",
    "\n",
    "- Municípios do RJ\n",
    "- População acima de 60 anos (público alvo da pesquisa)\n",
    "- IDH\n",
    "- PIB"
   ]
  },
  {
   "cell_type": "code",
   "execution_count": 30,
   "id": "cb9996df",
   "metadata": {
    "scrolled": true
   },
   "outputs": [
    {
     "name": "stdout",
     "output_type": "stream",
     "text": [
      "+--------------------+------------------+\n",
      "|           municipio|populacao_acima_60|\n",
      "+--------------------+------------------+\n",
      "|            Araruama|             25422|\n",
      "|              Paraty|              5808|\n",
      "|     São José de Ubá|              1399|\n",
      "|           Sumidouro|              2273|\n",
      "|Bom Jesus do Itab...|              6902|\n",
      "|          Petrópolis|             55676|\n",
      "|      Laje do Muriaé|              1430|\n",
      "|         Barra Mansa|             31527|\n",
      "|                Magé|             34334|\n",
      "|        Belford Roxo|             63975|\n",
      "|         São Gonçalo|            158253|\n",
      "|          Porto Real|              2695|\n",
      "|      Rio das Flores|              1508|\n",
      "|              Mendes|              3738|\n",
      "|     Cardoso Moreira|              2611|\n",
      "| Conceição de Macabu|              3614|\n",
      "|             Niterói|            107530|\n",
      "|      Angra dos Reis|             23368|\n",
      "|            Sapucaia|              3366|\n",
      "|               Areal|              2061|\n",
      "+--------------------+------------------+\n",
      "only showing top 20 rows\n",
      "\n"
     ]
    }
   ],
   "source": [
    "from pyspark.sql.functions import sum, col\n",
    "\n",
    "# Filtrar a população com idade acima de 60 anos\n",
    "df_populacao_acima_60 = df_populacao.filter(col(\"idade\") > 60)\n",
    "\n",
    "# Agrupar por município e somar a população de idosos acima de 60 anos\n",
    "df_populacao_acima_60_anos = df_populacao_acima_60.groupBy(\"municipio\").agg(\n",
    "    sum(\"populacao\").alias(\"populacao_acima_60\")\n",
    ")\n",
    "\n",
    "# Converter a coluna populacao_acima_60 para inteiro\n",
    "df_populacao_acima_60_anos = df_populacao_acima_60_anos.withColumn(\"populacao_acima_60\", col(\"populacao_acima_60\").cast(\"int\"))\n",
    "\n",
    "df_populacao_acima_60_anos.show()"
   ]
  },
  {
   "cell_type": "code",
   "execution_count": 31,
   "id": "2eaa7826",
   "metadata": {},
   "outputs": [
    {
     "name": "stdout",
     "output_type": "stream",
     "text": [
      "+---------+--------------------+------------------+--------+-----+\n",
      "|indicador|           municipio|populacao_acima_60|     PIB|  IDH|\n",
      "+---------+--------------------+------------------+--------+-----+\n",
      "|  3300100|      Angra dos Reis|             23368|11194244|0.724|\n",
      "|  3300159|             Aperibé|              2091|  249125|0.692|\n",
      "|  3300209|            Araruama|             25422| 4234265|0.718|\n",
      "|  3300225|               Areal|              2061|  427444|0.684|\n",
      "|  3300233|  Armação dos Búzios|              5334| 2970333|0.728|\n",
      "|  3300258|     Arraial do Cabo|              5863| 2705477|0.733|\n",
      "|  3300407|         Barra Mansa|             31527| 6449309|0.729|\n",
      "|  3300308|      Barra do Piraí|             17848| 2713911|0.733|\n",
      "|  3300456|        Belford Roxo|             63975| 8839808|0.684|\n",
      "|  3300506|          Bom Jardim|              4850|  887304| 0.66|\n",
      "|  3300605|Bom Jesus do Itab...|              6902|  908167|0.732|\n",
      "|  3300704|           Cabo Frio|             37689|12359627|0.735|\n",
      "|  3300803|Cachoeiras de Macacu|              9898| 1305514|  0.7|\n",
      "|  3300902|             Cambuci|              3218|  400563|0.691|\n",
      "|  3301009|Campos dos Goytac...|             76312|37179860|0.716|\n",
      "|  3301108|           Cantagalo|              3743|  841421|0.709|\n",
      "|  3300936|           Carapebus|              2219|  726769|0.713|\n",
      "|  3301157|     Cardoso Moreira|              2611|  395482|0.648|\n",
      "|  3301207|               Carmo|              3338|  561153|0.696|\n",
      "|  3301306|   Casimiro de Abreu|              7157| 2352168|0.726|\n",
      "+---------+--------------------+------------------+--------+-----+\n",
      "only showing top 20 rows\n",
      "\n"
     ]
    }
   ],
   "source": [
    "base = df_populacao_acima_60_anos.join(df_pib, \"municipio\")\n",
    "base = base.join(df_idh_mais_recente, \"municipio\")\n",
    "base = base.select(\"indicador\", \"municipio\", \"populacao_acima_60\", \"PIB\", \"IDH\")\n",
    "\n",
    "base.show()"
   ]
  },
  {
   "cell_type": "markdown",
   "id": "d448fed4",
   "metadata": {},
   "source": [
    "### Verificação da integridade dos dados: data frame da base"
   ]
  },
  {
   "cell_type": "code",
   "execution_count": 32,
   "id": "b3917312",
   "metadata": {},
   "outputs": [
    {
     "name": "stdout",
     "output_type": "stream",
     "text": [
      "+---------+---------+------------------+---+---+-----+\n",
      "|indicador|municipio|populacao_acima_60|PIB|IDH|count|\n",
      "+---------+---------+------------------+---+---+-----+\n",
      "+---------+---------+------------------+---+---+-----+\n",
      "\n"
     ]
    }
   ],
   "source": [
    "exibe_dados_duplicados(base)"
   ]
  },
  {
   "cell_type": "code",
   "execution_count": 33,
   "id": "015ce7c0",
   "metadata": {},
   "outputs": [
    {
     "name": "stdout",
     "output_type": "stream",
     "text": [
      "+---------+---------+------------------+---+---+\n",
      "|indicador|municipio|populacao_acima_60|PIB|IDH|\n",
      "+---------+---------+------------------+---+---+\n",
      "+---------+---------+------------------+---+---+\n",
      "\n"
     ]
    }
   ],
   "source": [
    "exibe_valores_nulos_data_frame(base)"
   ]
  },
  {
   "cell_type": "code",
   "execution_count": 34,
   "id": "e89b6dd4",
   "metadata": {},
   "outputs": [
    {
     "name": "stdout",
     "output_type": "stream",
     "text": [
      "+---------+---------+------------------+---+---+\n",
      "|indicador|municipio|populacao_acima_60|PIB|IDH|\n",
      "+---------+---------+------------------+---+---+\n",
      "+---------+---------+------------------+---+---+\n",
      "\n"
     ]
    }
   ],
   "source": [
    "exibe_strings_vazias(base)"
   ]
  },
  {
   "cell_type": "markdown",
   "id": "5644f073",
   "metadata": {},
   "source": [
    "## 5.1. Armazenamento e Modelagem dos Dados no Snowflake <a name=\"5.1\"></a>\n",
    "\n",
    "A documentação da estrutura do modelo Snowflake está em anexo, no mesmo diretório desse notebook."
   ]
  },
  {
   "cell_type": "markdown",
   "id": "afaaa459",
   "metadata": {},
   "source": [
    "### Conectar ao Snowflake e criar as tabelas, caso ainda não tenham sido criadas\n",
    "\n",
    "- É necessário inserir suas credenciais do Snowflake abaixo.\n",
    "- Apenas id_municipios, da tabela de município, será inserida pela coluna indicador, do data frame base. \n",
    "    - Pois é o código extraído do IBGE que representa o município."
   ]
  },
  {
   "cell_type": "code",
   "execution_count": null,
   "id": "8e1980f3",
   "metadata": {},
   "outputs": [],
   "source": [
    "# Caso precise instalar snowflake\n",
    "# !pip install snowflake-connector-python"
   ]
  },
  {
   "cell_type": "code",
   "execution_count": null,
   "id": "bc87259c",
   "metadata": {},
   "outputs": [],
   "source": [
    "import snowflake.connector\n",
    "\n",
    "# Insira os dados de configurações do Snowflake\n",
    "snowflake_config = {\n",
    "    \"username\": \"seu_usuario\",\n",
    "    \"password\": \"sua_senha\",\n",
    "    \"account\": \"sua_conta.snowflakecomputing.com\",\n",
    "    \"warehouse\": \"seu_warehouse\",\n",
    "    \"database\": \"seu_database\",\n",
    "    \"schema\": \"seu_schema\",\n",
    "}"
   ]
  },
  {
   "cell_type": "code",
   "execution_count": 53,
   "id": "e2beda79",
   "metadata": {},
   "outputs": [
    {
     "name": "stdout",
     "output_type": "stream",
     "text": [
      "\n"
     ]
    }
   ],
   "source": [
    "# Criar as tabelas, caso elas ainda não existam\n",
    "criar_tabela_municipios = \"\"\"\n",
    "CREATE TABLE IF NOT EXISTS MUNICIPIOS (\n",
    "    ID_MUNICIPIO INT PRIMARY KEY,\n",
    "    NOME_MUNICIPIO VARCHAR(30)\n",
    ")\n",
    "\"\"\"\n",
    "\n",
    "criar_tabela_demografia = \"\"\"\n",
    "CREATE TABLE IF NOT EXISTS DEMOGRAFIA (\n",
    "    ID_DEMOGRAFIA INT PRIMARY KEY,\n",
    "    POPULACAO_ACIMA_60_ANOS INT\n",
    ")\n",
    "\"\"\"\n",
    "\n",
    "criar_tabela_indicadores_socioeconomicos = \"\"\"\n",
    "CREATE TABLE IF NOT EXISTS INDICADORES_SOCIOECONOMICOS (\n",
    "    ID_SOCIOECONOMICO INT PRIMARY KEY,\n",
    "    PIB INT,\n",
    "    IDH FLOAT\n",
    ")\n",
    "\"\"\"\n",
    "\n",
    "criar_tabela_fatos_municipais = \"\"\"\n",
    "CREATE TABLE IF NOT EXISTS FATOS_MUNICIPAIS (\n",
    "    ID_FATO INT PRIMARY KEY,\n",
    "    ID_MUNICIPIO INT,\n",
    "    ID_SOCIOECONOMICO INT,\n",
    "    ID_DEMOGRAFIA INT,\n",
    "    FOREIGN KEY (ID_MUNICIPIO) REFERENCES MUNICIPIOS(ID_MUNICIPIO),\n",
    "    FOREIGN KEY (ID_SOCIOECONOMICO) REFERENCES INDICADORES_SOCIOECONOMICOS(ID_SOCIOECONOMICO),\n",
    "    FOREIGN KEY (ID_DEMOGRAFIA) REFERENCES DEMOGRAFIA(ID_DEMOGRAFIA)\n",
    ")\n",
    "\"\"\"\n",
    "\n",
    "# Conectar ao Snowflake e criar as tabelas\n",
    "try:\n",
    "    conn = snowflake.connector.connect(**snowflake_config)\n",
    "    print(\"Conexão ao Snowflake estabelecida com sucesso\")\n",
    "    \n",
    "    with conn.cursor() as cursor:\n",
    "        cursor.execute(criar_tabela_municipios)\n",
    "        cursor.execute(criar_tabela_demografia)\n",
    "        cursor.execute(criar_tabela_indicadores_socioeconomicos)\n",
    "        cursor.execute(criar_tabela_fatos_municipais)\n",
    "\n",
    "    print(\"Sequências e tabelas criadas com sucesso\")\n",
    "    \n",
    "except Exception as e:\n",
    "     print(f\"Erro ao conectar ao Snowflake ou criar tabelas: {str(e)}\"\n",
    "    +\"\\nAdicione suas credenciais válidas no código acima, caso ainda não o tenha feito.\")\n",
    "\n",
    "finally:\n",
    "    conn.close()\n",
    "    print(\"Conexão ao Snowflake encerrada\")"
   ]
  },
  {
   "cell_type": "markdown",
   "id": "f6676058",
   "metadata": {},
   "source": [
    "### Insere os dados nas tabelas utilizando Snowflake"
   ]
  },
  {
   "cell_type": "code",
   "execution_count": null,
   "id": "c9b6f0a7",
   "metadata": {},
   "outputs": [],
   "source": [
    "from pyspark.sql.functions import col\n",
    "from pyspark.sql.functions import monotonically_increasing_id\n",
    "\n",
    "SNOWFLAKE_SOURCE_NAME = \"net.snowflake.spark.snowflake\"\n",
    "\n",
    "# Criando um novo DataFrame com os nomes das colunas ajustados para o Snowflake\n",
    "base_snowflake = base.select(\n",
    "    col(\"indicador\").alias(\"ID_MUNICIPIO\"), \n",
    "    col(\"municipio\").alias(\"NOME_MUNICIPIO\"),\n",
    "    col(\"PIB\"),\n",
    "    col(\"IDH\"),\n",
    "    col(\"populacao_acima_60\").alias(\"POPULACAO_ACIMA_60_ANOS\")\n",
    ")\n",
    "\n",
    "# Função para inserir dados no Snowflake\n",
    "def inserir_dados_snowflake(df, table_name):\n",
    "    try:\n",
    "        df.write.format(SNOWFLAKE_SOURCE_NAME).options(**snowflake_config).option(\"dbtable\", table_name).mode(\"append\").save()\n",
    "        print(f\"Dados inseridos com sucesso na tabela {table_name}\")\n",
    "    except Exception as e:\n",
    "        print(f\"Erro ao inserir dados na tabela {table_name}: {e}\")\n",
    "\n",
    "# Dividindo o DataFrame em subconjuntos para cada tabela\n",
    "# Incrementa automaticamente os IDs das tabelas\n",
    "df_municipios = base_snowflake.select(\"ID_MUNICIPIO\", \"NOME_MUNICIPIO\").distinct()\n",
    "df_demografia = base_snowflake.select(monotonically_increasing_id().alias(\"ID_DEMOGRAFIA\"), \"POPULACAO_ACIMA_60_ANOS\")\n",
    "df_socioeconomicos = base_snowflake.select(monotonically_increasing_id().alias(\"ID_SOCIOECONOMICO\"), \"PIB\", \"IDH\")\n",
    "df_fatos = base_snowflake.select(\n",
    "    monotonically_increasing_id().alias(\"ID_FATO\"),\n",
    "    col(\"ID_MUNICIPIO\"),\n",
    "    col(\"ID_DEMOGRAFIA\"),\n",
    "    col(\"ID_SOCIOECONOMICO\")\n",
    ")\n",
    "\n",
    "# Inserindo dados nas tabelas\n",
    "inserir_dados_snowflake(df_municipios, \"MUNICIPIOS\")\n",
    "inserir_dados_snowflake(df_demografia, \"DEMOGRAFIA\")\n",
    "inserir_dados_snowflake(df_socioeconomicos, \"INDICADORES_SOCIOECONOMICOS\")\n",
    "inserir_dados_snowflake(df_fatos, \"FATOS_MUNICIPAIS\")"
   ]
  },
  {
   "cell_type": "markdown",
   "id": "90b2912e",
   "metadata": {},
   "source": [
    "### Acessa os dados das tabelas usando Snowflake"
   ]
  },
  {
   "cell_type": "code",
   "execution_count": null,
   "id": "2360e779",
   "metadata": {},
   "outputs": [],
   "source": [
    "from pyspark.sql import SparkSession\n",
    "from pyspark.sql.functions import col\n",
    "\n",
    "# Configuração do Spark\n",
    "spark = SparkSession.builder \\\n",
    "    .appName(\"dados_ibge\") \\\n",
    "    .getOrCreate()\n",
    "\n",
    "# Leitura das tabelas do Snowflake\n",
    "df_municipios = spark.read.format(\"snowflake\").options(**snowflake_config).option(\"query\", \"SELECT * FROM MUNICIPIOS\").load()\n",
    "df_demografia = spark.read.format(\"snowflake\").options(**snowflake_config).option(\"query\", \"SELECT * FROM DEMOGRAFIA\").load()\n",
    "df_socioeconomicos = spark.read.format(\"snowflake\").options(**snowflake_config).option(\"query\", \"SELECT * FROM INDICADORES_SOCIOECONOMICOS\").load()\n",
    "df_fatos_municipais = spark.read.format(\"snowflake\").options(**snowflake_config).option(\"query\", \"SELECT * FROM FATOS_MUNICIPAIS\").load()\n",
    "\n",
    "# União das tabelas para criar o DataFrame novamente\n",
    "base_tabelas_snowflake = df_fatos_municipais.join(df_municipios, \"ID_MUNICIPIO\") \\\n",
    "    .join(df_socioeconomicos, \"ID_SOCIOECONOMICO\") \\\n",
    "    .join(df_demografia, \"ID_DEMOGRAFIA\") \\\n",
    "    .select(col(\"ID_MUNICIPIO\").alias(\"indicador\"),\n",
    "            col(\"NOME_MUNICIPIO\").alias(\"municipio\"),\n",
    "            col(\"PIB\"),\n",
    "            col(\"IDH\"),\n",
    "            col(\"POPULACAO_ACIMA_60_ANOS\").alias(\"populacao_acima_60\"))\n",
    "\n",
    "# Mostra o DataFrame resultante\n",
    "base_tabelas_snowflake.show()\n",
    "\n",
    "# Encerra a sessão Spark\n",
    "spark.stop()"
   ]
  },
  {
   "cell_type": "markdown",
   "id": "12b8cd21",
   "metadata": {},
   "source": [
    "# 6. Análise Exploratória de Dados (EDA) <a name=\"6\"></a>\n",
    "\n",
    "Como já tratei a integridade dos dados anteriormente, não farei a investigação novamente, mas é uma etapa importante nessa fase, para quando não se conhece a base de dados."
   ]
  },
  {
   "cell_type": "markdown",
   "id": "ad2c26cc",
   "metadata": {},
   "source": [
    "## 6.1 Estatística Descritiva <a name=\"6.1\"></a>\n",
    "\n",
    "\n",
    "- Rio de Janeiro possui 92 municípios\n",
    "- **População**\n",
    "    - A média da população acima de 60 anos foi de ~30.618 pessoas por município.\n",
    "        - Acima do terceiro quartil, com um desvio padrão de 123.724 pessoas e existe um município com 1.173.659 idosos, revela que há outlier e que a dispersão dos dados da população é grande entre os municípios. \n",
    "- **IDH**\n",
    "    - Média de ~0,709\n",
    "        - Tendo em vista que:\n",
    "            - Muito alto: superior a 0,80\n",
    "            - Alto: entre 0,70 e 0,80\n",
    "            - Médio: entre 0,55 e 0,70\n",
    "            - Baixo: inferior a 0,55\n",
    "        - Isso indica um IDH alto na média dos municípios.\n",
    "        - Eles estão entre IDH médio e muito alto. \n",
    "        - Como devio padrão é ~0,037, indica que os valores de IDH variam pouco entre os municípios.\n",
    "- **PIB**\n",
    "    - Como temos município com PIB quase 35 vezes maior que a média, um desvio padrão quase 4 vezes a média, indica que há uma dispersão muito grande entre o PIB dos municípios."
   ]
  },
  {
   "cell_type": "code",
   "execution_count": 35,
   "id": "a3aacb14",
   "metadata": {
    "scrolled": true
   },
   "outputs": [
    {
     "name": "stderr",
     "output_type": "stream",
     "text": [
      "24/01/14 13:35:51 WARN SparkStringUtils: Truncated the string representation of a plan since it was too large. This behavior can be adjusted by setting 'spark.sql.debug.maxToStringFields'.\n"
     ]
    },
    {
     "name": "stdout",
     "output_type": "stream",
     "text": [
      "+-------+------------------+--------------+------------------+--------------+-------------------+\n",
      "|summary|         indicador|     municipio|populacao_acima_60|           PIB|                IDH|\n",
      "+-------+------------------+--------------+------------------+--------------+-------------------+\n",
      "|  count|                92|            92|                92|         92.00|                 92|\n",
      "|   mean| 3303128.467391304|          NULL|30617.815217391304| 10,318,487.00| 0.7089130434782609|\n",
      "| stddev|1850.1235625565137|          NULL|123724.80517122582| 39,266,300.00|0.03676795432656986|\n",
      "|    min|           3300100|Angra dos Reis|               933|    184,165.00|              0.611|\n",
      "|    25%|         3301504.0|          NULL|              3218|    561,153.00|              0.684|\n",
      "|    50%|         3303104.0|          NULL|              6314|  1,364,014.00|              0.712|\n",
      "|    75%|         3304607.0|          NULL|             20627|  5,996,913.00|               0.73|\n",
      "|    max|           3306305| Volta Redonda|           1173659|359,634,752.00|              0.837|\n",
      "+-------+------------------+--------------+------------------+--------------+-------------------+\n",
      "\n"
     ]
    }
   ],
   "source": [
    "from pyspark.sql.functions import format_number, col\n",
    "\n",
    "estatistica_descritiva = base.summary()\n",
    "estatistica_descritiva = estatistica_descritiva.withColumn(\"PIB\", format_number(col(\"PIB\").cast(\"float\"), 2))\n",
    "\n",
    "estatistica_descritiva.show()"
   ]
  },
  {
   "cell_type": "code",
   "execution_count": 36,
   "id": "12924287",
   "metadata": {},
   "outputs": [
    {
     "data": {
      "image/png": "[encoded data removed]",
      "text/plain": [
       "<Figure size 648x288 with 1 Axes>"
      ]
     },
     "metadata": {
      "needs_background": "light"
     },
     "output_type": "display_data"
    },
    {
     "name": "stderr",
     "output_type": "stream",
     "text": [
      "                                                                                \r"
     ]
    },
    {
     "data": {
      "image/png": "[encoded data removed]",
      "text/plain": [
       "<Figure size 648x288 with 1 Axes>"
      ]
     },
     "metadata": {
      "needs_background": "light"
     },
     "output_type": "display_data"
    },
    {
     "data": {
      "image/png": "[encoded data removed]",
      "text/plain": [
       "<Figure size 648x288 with 1 Axes>"
      ]
     },
     "metadata": {
      "needs_background": "light"
     },
     "output_type": "display_data"
    }
   ],
   "source": [
    "from pyspark.sql.types import FloatType, DoubleType, IntegerType\n",
    "from pyspark.sql.functions import col, expr\n",
    "from matplotlib import pyplot as plt\n",
    "import numpy as np\n",
    "\n",
    "def gerar_boxplot_pyspark(dataframe):\n",
    "    # Identificar as colunas numéricas\n",
    "    colunas_numericas = [f.name for f in dataframe.schema.fields if isinstance(f.dataType, (DoubleType, FloatType, IntegerType))]\n",
    "\n",
    "    for coluna in colunas_numericas:\n",
    "        # Calcular os quartis\n",
    "        quartis = dataframe.stat.approxQuantile(coluna, [0.25, 0.5, 0.75], 0.05)\n",
    "        Q1, mediana, Q3 = quartis\n",
    "        IQR = Q3 - Q1\n",
    "\n",
    "        # Calcular os outliers\n",
    "        outliers_inferiores = dataframe.filter(col(coluna) < (Q1 - 1.5 * IQR)).select(coluna).rdd.flatMap(lambda x: x).collect()\n",
    "        outliers_superiores = dataframe.filter(col(coluna) > (Q3 + 1.5 * IQR)).select(coluna).rdd.flatMap(lambda x: x).collect()\n",
    "\n",
    "        # Preparar dados para plotagem\n",
    "        dados_plot = [Q1, mediana, Q3, Q1 - 1.5 * IQR, Q3 + 1.5 * IQR]\n",
    "\n",
    "        # Plotar o BoxPlot\n",
    "        plt.figure(figsize=(9, 4))\n",
    "        plt.boxplot([dados_plot], vert=False, positions=[1])\n",
    "        plt.yticks([]) \n",
    "        plt.scatter(outliers_inferiores, [1] * len(outliers_inferiores), color='black')\n",
    "        plt.scatter(outliers_superiores, [1] * len(outliers_superiores), color='black')\n",
    "        plt.title(f'{coluna}')\n",
    "        plt.show()\n",
    "\n",
    "gerar_boxplot_pyspark(base)"
   ]
  },
  {
   "cell_type": "markdown",
   "id": "29b9500a",
   "metadata": {},
   "source": [
    "## 6.2 Outlier <a name=\"6.2\"></a>\n",
    "\n",
    "- O município do Rio de Janeiro possui população idosa:\n",
    "    - ~7,5 maior que o segundo colocado, São Gonçalo\n",
    "    - ~4,2 maior que o segundo colocado, Maricá"
   ]
  },
  {
   "cell_type": "markdown",
   "id": "27b4ba91",
   "metadata": {},
   "source": [
    "#### Ordenando municípios pela população idosa"
   ]
  },
  {
   "cell_type": "code",
   "execution_count": 37,
   "id": "ad0585e6",
   "metadata": {
    "scrolled": true
   },
   "outputs": [
    {
     "name": "stdout",
     "output_type": "stream",
     "text": [
      "+---------+--------------------+------------------+---------+-----+\n",
      "|indicador|           municipio|populacao_acima_60|      PIB|  IDH|\n",
      "+---------+--------------------+------------------+---------+-----+\n",
      "|  3304557|      Rio de Janeiro|           1173659|359634753|0.799|\n",
      "|  3304904|         São Gonçalo|            158253| 20324883|0.739|\n",
      "|  3301702|     Duque de Caxias|            118914| 53136666|0.711|\n",
      "|  3303500|         Nova Iguaçu|            117611| 17794593|0.713|\n",
      "|  3303302|             Niterói|            107530| 66345730|0.837|\n",
      "|  3301009|Campos dos Goytac...|             76312| 37179860|0.716|\n",
      "|  3305109|  São João de Meriti|             69370|  8963782|0.719|\n",
      "|  3300456|        Belford Roxo|             63975|  8839808|0.684|\n",
      "|  3303906|          Petrópolis|             55676| 15665448|0.745|\n",
      "|  3306305|       Volta Redonda|             51533| 19671281|0.771|\n",
      "|  3303401|       Nova Friburgo|             37713|  6324935|0.745|\n",
      "|  3300704|           Cabo Frio|             37689| 12359627|0.735|\n",
      "|  3302700|              Maricá|             35138| 85814296|0.765|\n",
      "|  3301900|            Itaboraí|             34516|  5640738|0.693|\n",
      "|  3302502|                Magé|             34334|  4765844|0.709|\n",
      "|  3300407|         Barra Mansa|             31527|  6449309|0.729|\n",
      "|  3305802|         Teresópolis|             29959|  5923947| 0.73|\n",
      "|  3302403|               Macaé|             29842| 17747016|0.764|\n",
      "|  3303203|           Nilópolis|             27386|  3059486|0.753|\n",
      "|  3302858|            Mesquita|             26966|  2619229|0.737|\n",
      "+---------+--------------------+------------------+---------+-----+\n",
      "only showing top 20 rows\n",
      "\n"
     ]
    }
   ],
   "source": [
    "base.orderBy(base.populacao_acima_60.desc()).show()"
   ]
  },
  {
   "cell_type": "markdown",
   "id": "fdf3a533",
   "metadata": {},
   "source": [
    "#### Comparação da população do Rio de Janeiro com São Gonçalo"
   ]
  },
  {
   "cell_type": "code",
   "execution_count": 38,
   "id": "ed53fbbb",
   "metadata": {},
   "outputs": [
    {
     "data": {
      "text/plain": [
       "7.4163459776433935"
      ]
     },
     "execution_count": 38,
     "metadata": {},
     "output_type": "execute_result"
    }
   ],
   "source": [
    "1173659/158253"
   ]
  },
  {
   "cell_type": "markdown",
   "id": "b7a9fd0e",
   "metadata": {},
   "source": [
    "#### Ordenando municípios pelo PIB"
   ]
  },
  {
   "cell_type": "code",
   "execution_count": 39,
   "id": "7dd7f2a8",
   "metadata": {
    "scrolled": true
   },
   "outputs": [
    {
     "name": "stdout",
     "output_type": "stream",
     "text": [
      "+---------+--------------------+------------------+---------+-----+\n",
      "|indicador|           municipio|populacao_acima_60|      PIB|  IDH|\n",
      "+---------+--------------------+------------------+---------+-----+\n",
      "|  3304557|      Rio de Janeiro|           1173659|359634753|0.799|\n",
      "|  3302700|              Maricá|             35138| 85814296|0.765|\n",
      "|  3303302|             Niterói|            107530| 66345730|0.837|\n",
      "|  3301702|     Duque de Caxias|            118914| 53136666|0.711|\n",
      "|  3305505|           Saquarema|             18276| 42178208|0.709|\n",
      "|  3301009|Campos dos Goytac...|             76312| 37179860|0.716|\n",
      "|  3304904|         São Gonçalo|            158253| 20324883|0.739|\n",
      "|  3306305|       Volta Redonda|             51533| 19671281|0.771|\n",
      "|  3303500|         Nova Iguaçu|            117611| 17794593|0.713|\n",
      "|  3302403|               Macaé|             29842| 17747016|0.764|\n",
      "|  3303906|          Petrópolis|             55676| 15665448|0.745|\n",
      "|  3300704|           Cabo Frio|             37689| 12359627|0.735|\n",
      "|  3300100|      Angra dos Reis|             23368| 11194244|0.724|\n",
      "|  3304201|             Resende|             20627| 10754410|0.768|\n",
      "|  3302007|             Itaguaí|             16739| 10502749|0.715|\n",
      "|  3305000|   São João da Barra|              6400|  9886875|0.671|\n",
      "|  3305109|  São João de Meriti|             69370|  8963782|0.719|\n",
      "|  3304524|      Rio das Ostras|             21650|  8949070|0.773|\n",
      "|  3300456|        Belford Roxo|             63975|  8839808|0.684|\n",
      "|  3302254|            Itatiaia|              4864|  6893431|0.737|\n",
      "+---------+--------------------+------------------+---------+-----+\n",
      "only showing top 20 rows\n",
      "\n"
     ]
    }
   ],
   "source": [
    "base.orderBy(base.PIB.desc()).show()"
   ]
  },
  {
   "cell_type": "markdown",
   "id": "a2379511",
   "metadata": {},
   "source": [
    "#### Comparação da população do Rio de Janeiro com Maricá"
   ]
  },
  {
   "cell_type": "code",
   "execution_count": 40,
   "id": "8a06eb2c",
   "metadata": {},
   "outputs": [
    {
     "data": {
      "text/plain": [
       "4.190848958313426"
      ]
     },
     "execution_count": 40,
     "metadata": {},
     "output_type": "execute_result"
    }
   ],
   "source": [
    "359634753/85814296"
   ]
  },
  {
   "cell_type": "markdown",
   "id": "fcb62f20",
   "metadata": {},
   "source": [
    "#### Ordenando municípios pelo IDH"
   ]
  },
  {
   "cell_type": "code",
   "execution_count": 41,
   "id": "d77ab101",
   "metadata": {},
   "outputs": [
    {
     "name": "stdout",
     "output_type": "stream",
     "text": [
      "+---------+--------------+------------------+---------+-----+\n",
      "|indicador|     municipio|populacao_acima_60|      PIB|  IDH|\n",
      "+---------+--------------+------------------+---------+-----+\n",
      "|  3303302|       Niterói|            107530| 66345730|0.837|\n",
      "|  3304557|Rio de Janeiro|           1173659|359634753|0.799|\n",
      "|  3304524|Rio das Ostras|             21650|  8949070|0.773|\n",
      "|  3306305| Volta Redonda|             51533| 19671281|0.771|\n",
      "|  3304201|       Resende|             20627| 10754410|0.768|\n",
      "|  3302700|        Maricá|             35138| 85814296|0.765|\n",
      "|  3302403|         Macaé|             29842| 17747016|0.764|\n",
      "|  3301876| Iguaba Grande|              6237|   631409|0.761|\n",
      "|  3302601|   Mangaratiba|              7519|  3211900|0.753|\n",
      "|  3303203|     Nilópolis|             27386|  3059486|0.753|\n",
      "|  3302908|Miguel Pereira|              6157|   632510|0.745|\n",
      "|  3303401| Nova Friburgo|             37713|  6324935|0.745|\n",
      "|  3303906|    Petrópolis|             55676| 15665448|0.745|\n",
      "|  3304904|   São Gonçalo|            158253| 20324883|0.739|\n",
      "|  3306107|       Valença|             14074|  3122612|0.738|\n",
      "|  3302254|      Itatiaia|              4864|  6893431|0.737|\n",
      "|  3302858|      Mesquita|             26966|  2619229|0.737|\n",
      "|  3302809|        Mendes|              3738|   357694|0.736|\n",
      "|  3300704|     Cabo Frio|             37689| 12359627|0.735|\n",
      "|  3300308|Barra do Piraí|             17848|  2713911|0.733|\n",
      "+---------+--------------+------------------+---------+-----+\n",
      "only showing top 20 rows\n",
      "\n"
     ]
    }
   ],
   "source": [
    "base.orderBy(base.IDH.desc()).show()"
   ]
  },
  {
   "cell_type": "markdown",
   "id": "ed957efc",
   "metadata": {},
   "source": [
    "## 6.3 Engenharia de Features <a name=\"6.3\"></a>\n",
    "\n",
    "Apesar de conseguir extrair mais algumas variáveis extras, me atentei a diminuir o escopo do projeto para conseguir criar todos os entregáveis dentro do prazo, abaixo estão algumas features sugeridas para uma análise mais aprofundada:\n",
    "\n",
    "- **Renda per capita** acima de 5 salários mínimos (ou mais, dependendo do público-alvo da empresa) para o público mais jovem.\n",
    "    - Tendo em vista que em alguns casos, é a família que ajuda financeiramente o idoso.\n",
    "- **Sexo**\n",
    "    - Caso o empresário descubra que o público-alvo seja majoritariamente masculino ou feminino, pode ajudar na análise do mercado em municípios que possuem mais idosos com esse sexo.\n",
    "- **Explorar os bairros do Rio de Janeiro**\n",
    "    - Dado que ele é um outlier e tem maior destaque na análise, pode ajudar em decidir onde seria o melhor lugar para o lar de idosos.\n",
    "- **Anos anteriores**\n",
    "    - Analisar anos anteriores das variáveis permitiria entender as suas tendências.\n",
    "- **Percentual de idosos**\n",
    "    - A porcentagem de idosos que cada município possui em relação a todo o estado do RJ.\n",
    "   "
   ]
  },
  {
   "cell_type": "markdown",
   "id": "3306db83",
   "metadata": {},
   "source": [
    "## 6.4 Distribuição dos dados <a name=\"6.4\"></a>\n",
    "\n",
    "- **População idosa**:\n",
    "    - A distribuição é fortemente inclinada para a direita, indicando que a maioria dos municípios tem uma população idosa relativamente pequena, enquanto poucos municípios têm uma população idosa muito grande.\n",
    "- **PIB**:\n",
    "    - Assim como a população idosa, a distribuição do PIB é fortemente inclinada para a direita. Isso sugere que a maioria dos municípios tem um PIB menor, com poucos municípios apresentando valores muito altos de PIB.\n",
    "- **Índice de Desenvolvimento Humano (IDH)**:\n",
    "    - A distribuição do IDH sugere seguir uma distribuição normal. A maioria dos municípios tem um IDH ~0,72."
   ]
  },
  {
   "cell_type": "code",
   "execution_count": 42,
   "id": "b64ef81a",
   "metadata": {},
   "outputs": [
    {
     "data": {
      "image/png": "[encoded data removed]",
      "text/plain": [
       "<Figure size 648x288 with 1 Axes>"
      ]
     },
     "metadata": {
      "needs_background": "light"
     },
     "output_type": "display_data"
    },
    {
     "data": {
      "image/png": "[encoded data removed]",
      "text/plain": [
       "<Figure size 648x288 with 1 Axes>"
      ]
     },
     "metadata": {
      "needs_background": "light"
     },
     "output_type": "display_data"
    },
    {
     "data": {
      "image/png": "[encoded data removed]",
      "text/plain": [
       "<Figure size 648x288 with 1 Axes>"
      ]
     },
     "metadata": {
      "needs_background": "light"
     },
     "output_type": "display_data"
    }
   ],
   "source": [
    "from pyspark.sql.functions import col\n",
    "from pyspark.sql.types import DoubleType, FloatType, IntegerType\n",
    "from matplotlib import pyplot as plt\n",
    "\n",
    "def gerar_histograma_pyspark(dataframe):\n",
    "    # Identificar as colunas numéricas\n",
    "    colunas_numericas = [f.name for f in dataframe.schema.fields if isinstance(f.dataType, (DoubleType, FloatType, IntegerType))]\n",
    "\n",
    "    for coluna in colunas_numericas:\n",
    "        # Coletar os dados da coluna\n",
    "        dados_coluna = dataframe.select(coluna).rdd.flatMap(lambda x: x).collect()\n",
    "\n",
    "        # Plotar o Histograma\n",
    "        plt.figure(figsize=(9, 4))\n",
    "        plt.hist(dados_coluna, bins=75, edgecolor='black')\n",
    "        plt.title(f'Histograma da Coluna: {coluna}')\n",
    "        plt.show()\n",
    "\n",
    "\n",
    "gerar_histograma_pyspark(base)"
   ]
  },
  {
   "cell_type": "markdown",
   "id": "89920a2b",
   "metadata": {},
   "source": [
    "## 6.5 Análise das relações entre variáveis e correlação Spearman <a name=\"6.5\"></a>\n",
    "\n",
    "- Uma das premissas para aplicar correlação é analisar as distribuições dos dados, caso possuam uma distribuição normal com relações lineares, se usa Pearson.\n",
    "    - Como os dados não se enquadram nesse critério, Spearman foi utilizado, pois ele é mais apropriado para dados não normalmente distribuídos e para capturar relações não lineares.\n",
    "    \n",
    "    \n",
    "- **População idosa e PIB**:\n",
    "   - Correlação: 0,89 (Relação positiva muito forte).\n",
    "       - Há uma tendência ascendente no gráfico, indicando que municípios com maiores populações acima de 60 anos tendem a ter um PIB mais alto. \n",
    "       - Isso pode sugerir que municípios maiores, tanto em termos de população total, quanto de população idosa, tende a aumentar a economia na região.\n",
    "- **População Idosa e IDH**:\n",
    "    - Correlação: 0,60 (Relação positiva moderada).\n",
    "        - Há uma tendência moderada de aumento do IDH com o aumento da população acima de 60 anos. \n",
    "        - Isso pode indicar que municípios com uma proporção maior de idosos tendem a ter um IDH mais elevado, possivelmente refletindo melhores serviços de saúde, maior bem-estar social ou outras características que beneficiam a população idosa.\n",
    "- **PIB e IDH**:\n",
    "    - Correlação: 0,58 (Relação positiva moderada).\n",
    "        - Isso pode indicar que um PIB mais elevado geralmente acompanha um IDH mais alto, ou o inverso."
   ]
  },
  {
   "cell_type": "code",
   "execution_count": 43,
   "id": "37ce4d6e",
   "metadata": {},
   "outputs": [
    {
     "data": {
      "image/png": "[encoded data removed]",
      "text/plain": [
       "<Figure size 576x432 with 1 Axes>"
      ]
     },
     "metadata": {
      "needs_background": "light"
     },
     "output_type": "display_data"
    },
    {
     "data": {
      "image/png": "[encoded data removed]",
      "text/plain": [
       "<Figure size 576x432 with 1 Axes>"
      ]
     },
     "metadata": {
      "needs_background": "light"
     },
     "output_type": "display_data"
    },
    {
     "name": "stderr",
     "output_type": "stream",
     "text": [
      "                                                                                \r"
     ]
    },
    {
     "data": {
      "image/png": "[encoded data removed]",
      "text/plain": [
       "<Figure size 576x432 with 1 Axes>"
      ]
     },
     "metadata": {
      "needs_background": "light"
     },
     "output_type": "display_data"
    }
   ],
   "source": [
    "import matplotlib.pyplot as plt\n",
    "import itertools\n",
    "\n",
    "def plotar_grafico_dispersao(dataframe):\n",
    "    # Selecionar apenas as colunas numéricas\n",
    "    colunas_numericas = [campo.name for campo in dataframe.schema.fields if isinstance(campo.dataType, (FloatType, DoubleType, IntegerType))]\n",
    "    dataframe_numeric = dataframe.select(*colunas_numericas)\n",
    "    \n",
    "    # Gerar todas as combinações únicas de duas variáveis\n",
    "    combinacoes = list(itertools.combinations(colunas_numericas, 2))\n",
    "    \n",
    "    # Plotar as combinações\n",
    "    for coluna1, coluna2 in combinacoes:\n",
    "        plt.figure(figsize=(8, 6))\n",
    "        plt.scatter(dataframe_numeric.select(coluna1).rdd.flatMap(lambda x: x).collect(),\n",
    "                    dataframe_numeric.select(coluna2).rdd.flatMap(lambda x: x).collect())\n",
    "        plt.xlabel(coluna1)\n",
    "        plt.ylabel(coluna2)\n",
    "        plt.title(f\"Gráfico de Dispersão entre {coluna1} e {coluna2}\")\n",
    "        plt.show()\n",
    "\n",
    "plotar_grafico_dispersao(base)\n"
   ]
  },
  {
   "cell_type": "code",
   "execution_count": 44,
   "id": "7b7c6dd9",
   "metadata": {},
   "outputs": [
    {
     "name": "stdout",
     "output_type": "stream",
     "text": [
      "populacao_acima_60: Não segue uma distribuição normal. (p-valor = 3.713263852951692e-20)\n",
      "PIB: Não segue uma distribuição normal. (p-valor = 1.113416123769346e-19)\n",
      "IDH: Segue uma distribuição normal. (p-valor = 0.2462666779756546)\n"
     ]
    }
   ],
   "source": [
    "from pyspark.sql.functions import col\n",
    "from pyspark.sql.types import DoubleType, FloatType, IntegerType\n",
    "from scipy.stats import shapiro\n",
    "\n",
    "def testar_normalidade_pyspark(dataframe):\n",
    "    # Identificar as colunas numéricas\n",
    "    colunas_numericas = [f.name for f in dataframe.schema.fields if isinstance(f.dataType, (DoubleType, FloatType, IntegerType))]\n",
    "\n",
    "    for coluna in colunas_numericas:\n",
    "        # Coletar os dados da coluna\n",
    "        dados_coluna = dataframe.select(coluna).rdd.flatMap(lambda x: x).collect()\n",
    "\n",
    "        # Realizar o teste de Shapiro-Wilk\n",
    "        estatistica, p_valor = shapiro(dados_coluna)\n",
    "\n",
    "        # Verificar a normalidade\n",
    "        if p_valor > 0.05:\n",
    "            print(f'{coluna}: Segue uma distribuição normal. (p-valor = {p_valor})')\n",
    "        else:\n",
    "            print(f'{coluna}: Não segue uma distribuição normal. (p-valor = {p_valor})')\n",
    "\n",
    "testar_normalidade_pyspark(base)"
   ]
  },
  {
   "cell_type": "code",
   "execution_count": 45,
   "id": "952db6ef",
   "metadata": {},
   "outputs": [
    {
     "name": "stderr",
     "output_type": "stream",
     "text": [
      "                                                                                \r"
     ]
    },
    {
     "data": {
      "image/png": "[encoded data removed]",
      "text/plain": [
       "<Figure size 432x288 with 2 Axes>"
      ]
     },
     "metadata": {
      "needs_background": "light"
     },
     "output_type": "display_data"
    }
   ],
   "source": [
    "import matplotlib.pyplot as plt\n",
    "import numpy as np\n",
    "from pyspark.ml.feature import VectorAssembler\n",
    "from pyspark.ml.stat import Correlation\n",
    "from pyspark.sql.functions import col\n",
    "from scipy.stats import spearmanr\n",
    "\n",
    "def calcular_correlacao(dataframe, metodo):\n",
    "    colunas_numericas = [campo.name for campo in dataframe.schema.fields if isinstance(campo.dataType, (FloatType, DoubleType, IntegerType))]\n",
    "    dataframe_com_caracteristicas = VectorAssembler(inputCols=colunas_numericas, outputCol=\"caracteristicas\").transform(dataframe.select(*colunas_numericas))\n",
    "    \n",
    "    if metodo == \"pearson\":\n",
    "        matriz_correlacao = Correlation.corr(dataframe_com_caracteristicas, \"caracteristicas\").collect()[0][\"pearson(caracteristicas)\"].toArray()\n",
    "    elif metodo == \"spearman\":\n",
    "        matriz_correlacao = np.zeros((len(colunas_numericas), len(colunas_numericas)))\n",
    "        for i, coluna1 in enumerate(colunas_numericas):\n",
    "            for j, coluna2 in enumerate(colunas_numericas):\n",
    "                dados_coluna1 = dataframe.select(col(coluna1)).rdd.flatMap(lambda x: x).collect()\n",
    "                dados_coluna2 = dataframe.select(col(coluna2)).rdd.flatMap(lambda x: x).collect()\n",
    "                coeficiente_spearman, _ = spearmanr(dados_coluna1, dados_coluna2)\n",
    "                matriz_correlacao[i][j] = coeficiente_spearman\n",
    "\n",
    "    return matriz_correlacao\n",
    "\n",
    "def plotar_correlacao(dataframe, metodo=\"pearson\"):\n",
    "    matriz_correlacao = calcular_correlacao(dataframe, metodo)\n",
    "    fig, ax = plt.subplots()\n",
    "    cax = ax.matshow(matriz_correlacao, cmap='coolwarm')\n",
    "    plt.title(f\"Matriz de Correlação ({metodo.capitalize()})\")\n",
    "\n",
    "    for i in range(matriz_correlacao.shape[0]):\n",
    "        for j in range(matriz_correlacao.shape[1]):\n",
    "            plt.text(j, i, f\"{matriz_correlacao[i][j]:.2f}\", va='center', ha='center', color='black')\n",
    "\n",
    "    nomes_colunas = [campo.name for campo in dataframe.schema.fields if isinstance(campo.dataType, (FloatType, DoubleType, IntegerType))]\n",
    "    plt.xticks(np.arange(len(nomes_colunas)), nomes_colunas, rotation=90)\n",
    "    plt.yticks(np.arange(len(nomes_colunas)), nomes_colunas)\n",
    "    fig.colorbar(cax)\n",
    "    plt.show()\n",
    "\n",
    "plotar_correlacao(base, metodo=\"spearman\")\n"
   ]
  },
  {
   "cell_type": "markdown",
   "id": "b24c2292",
   "metadata": {},
   "source": [
    "#### Finaliza a sessão do PySpark"
   ]
  },
  {
   "cell_type": "code",
   "execution_count": 46,
   "id": "c68fc6d9",
   "metadata": {},
   "outputs": [],
   "source": [
    "spark.stop()"
   ]
  }
 ],
 "metadata": {
  "kernelspec": {
   "display_name": "Python 3 (ipykernel)",
   "language": "python",
   "name": "python3"
  },
  "language_info": {
   "codemirror_mode": {
    "name": "ipython",
    "version": 3
   },
   "file_extension": ".py",
   "mimetype": "text/x-python",
   "name": "python",
   "nbconvert_exporter": "python",
   "pygments_lexer": "ipython3",
   "version": "3.9.12"
  }
 },
 "nbformat": 4,
 "nbformat_minor": 5
}
